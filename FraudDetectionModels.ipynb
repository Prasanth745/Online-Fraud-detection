{
 "cells": [
  {
   "cell_type": "code",
   "execution_count": 3,
   "metadata": {},
   "outputs": [],
   "source": [
    "# Importing Analysis Libraries\n",
    "\n",
    "import numpy as np \n",
    "import pandas as pd \n",
    "import matplotlib.pyplot as plt\n",
    "import seaborn as sns\n",
    "%matplotlib inline\n",
    "\n",
    "# for saving the model\n",
    "import pickle"
   ]
  },
  {
   "cell_type": "code",
   "execution_count": 4,
   "metadata": {},
   "outputs": [],
   "source": [
    "# Importing ML Libraries\n",
    "\n",
    "from sklearn.model_selection import train_test_split\n",
    "from sklearn import metrics\n",
    "from sklearn.linear_model import LogisticRegression\n",
    "from sklearn.neighbors import KNeighborsClassifier\n",
    "from sklearn.ensemble import RandomForestClassifier\n",
    "from sklearn import svm\n",
    "from sklearn.preprocessing import LabelEncoder\n",
    "from sklearn.feature_selection import mutual_info_regression\n",
    "from sklearn.metrics import mean_squared_error, r2_score\n",
    "from sklearn.metrics import confusion_matrix, classification_report, accuracy_score, mean_absolute_error"
   ]
  },
  {
   "cell_type": "code",
   "execution_count": 5,
   "metadata": {},
   "outputs": [],
   "source": [
    "# Load the data\n",
    "data = pd.read_csv('CreditCardData.csv')"
   ]
  },
  {
   "cell_type": "code",
   "execution_count": 6,
   "metadata": {},
   "outputs": [
    {
     "data": {
      "text/html": [
       "<div>\n",
       "<style scoped>\n",
       "    .dataframe tbody tr th:only-of-type {\n",
       "        vertical-align: middle;\n",
       "    }\n",
       "\n",
       "    .dataframe tbody tr th {\n",
       "        vertical-align: top;\n",
       "    }\n",
       "\n",
       "    .dataframe thead th {\n",
       "        text-align: right;\n",
       "    }\n",
       "</style>\n",
       "<table border=\"1\" class=\"dataframe\">\n",
       "  <thead>\n",
       "    <tr style=\"text-align: right;\">\n",
       "      <th></th>\n",
       "      <th>Transaction ID</th>\n",
       "      <th>Date</th>\n",
       "      <th>Day of Week</th>\n",
       "      <th>Time</th>\n",
       "      <th>Type of Card</th>\n",
       "      <th>Entry Mode</th>\n",
       "      <th>Amount</th>\n",
       "      <th>Type of Transaction</th>\n",
       "      <th>Merchant Group</th>\n",
       "      <th>Country of Transaction</th>\n",
       "      <th>Shipping Address</th>\n",
       "      <th>Country of Residence</th>\n",
       "      <th>Gender</th>\n",
       "      <th>Age</th>\n",
       "      <th>Bank</th>\n",
       "      <th>Fraud</th>\n",
       "    </tr>\n",
       "  </thead>\n",
       "  <tbody>\n",
       "    <tr>\n",
       "      <th>0</th>\n",
       "      <td>#3577 209</td>\n",
       "      <td>14-Oct-20</td>\n",
       "      <td>Wednesday</td>\n",
       "      <td>19</td>\n",
       "      <td>Visa</td>\n",
       "      <td>Tap</td>\n",
       "      <td>£5</td>\n",
       "      <td>POS</td>\n",
       "      <td>Entertainment</td>\n",
       "      <td>United Kingdom</td>\n",
       "      <td>United Kingdom</td>\n",
       "      <td>United Kingdom</td>\n",
       "      <td>M</td>\n",
       "      <td>25.2</td>\n",
       "      <td>RBS</td>\n",
       "      <td>0</td>\n",
       "    </tr>\n",
       "    <tr>\n",
       "      <th>1</th>\n",
       "      <td>#3039 221</td>\n",
       "      <td>14-Oct-20</td>\n",
       "      <td>Wednesday</td>\n",
       "      <td>17</td>\n",
       "      <td>MasterCard</td>\n",
       "      <td>PIN</td>\n",
       "      <td>£288</td>\n",
       "      <td>POS</td>\n",
       "      <td>Services</td>\n",
       "      <td>USA</td>\n",
       "      <td>USA</td>\n",
       "      <td>USA</td>\n",
       "      <td>F</td>\n",
       "      <td>49.6</td>\n",
       "      <td>Lloyds</td>\n",
       "      <td>0</td>\n",
       "    </tr>\n",
       "    <tr>\n",
       "      <th>2</th>\n",
       "      <td>#2694 780</td>\n",
       "      <td>14-Oct-20</td>\n",
       "      <td>Wednesday</td>\n",
       "      <td>14</td>\n",
       "      <td>Visa</td>\n",
       "      <td>Tap</td>\n",
       "      <td>£5</td>\n",
       "      <td>POS</td>\n",
       "      <td>Restaurant</td>\n",
       "      <td>India</td>\n",
       "      <td>India</td>\n",
       "      <td>India</td>\n",
       "      <td>F</td>\n",
       "      <td>42.2</td>\n",
       "      <td>Barclays</td>\n",
       "      <td>0</td>\n",
       "    </tr>\n",
       "    <tr>\n",
       "      <th>3</th>\n",
       "      <td>#2640 960</td>\n",
       "      <td>13-Oct-20</td>\n",
       "      <td>Tuesday</td>\n",
       "      <td>14</td>\n",
       "      <td>Visa</td>\n",
       "      <td>Tap</td>\n",
       "      <td>£28</td>\n",
       "      <td>POS</td>\n",
       "      <td>Entertainment</td>\n",
       "      <td>United Kingdom</td>\n",
       "      <td>India</td>\n",
       "      <td>United Kingdom</td>\n",
       "      <td>F</td>\n",
       "      <td>51.0</td>\n",
       "      <td>Barclays</td>\n",
       "      <td>0</td>\n",
       "    </tr>\n",
       "    <tr>\n",
       "      <th>4</th>\n",
       "      <td>#2771 031</td>\n",
       "      <td>13-Oct-20</td>\n",
       "      <td>Tuesday</td>\n",
       "      <td>23</td>\n",
       "      <td>Visa</td>\n",
       "      <td>CVC</td>\n",
       "      <td>£91</td>\n",
       "      <td>Online</td>\n",
       "      <td>Electronics</td>\n",
       "      <td>USA</td>\n",
       "      <td>USA</td>\n",
       "      <td>United Kingdom</td>\n",
       "      <td>M</td>\n",
       "      <td>38.0</td>\n",
       "      <td>Halifax</td>\n",
       "      <td>1</td>\n",
       "    </tr>\n",
       "  </tbody>\n",
       "</table>\n",
       "</div>"
      ],
      "text/plain": [
       "  Transaction ID       Date Day of Week  Time Type of Card Entry Mode Amount  \\\n",
       "0      #3577 209  14-Oct-20   Wednesday    19         Visa        Tap     £5   \n",
       "1      #3039 221  14-Oct-20   Wednesday    17   MasterCard        PIN   £288   \n",
       "2      #2694 780  14-Oct-20   Wednesday    14         Visa        Tap     £5   \n",
       "3      #2640 960  13-Oct-20     Tuesday    14         Visa        Tap    £28   \n",
       "4      #2771 031  13-Oct-20     Tuesday    23         Visa        CVC    £91   \n",
       "\n",
       "  Type of Transaction Merchant Group Country of Transaction Shipping Address  \\\n",
       "0                 POS  Entertainment         United Kingdom   United Kingdom   \n",
       "1                 POS       Services                    USA              USA   \n",
       "2                 POS     Restaurant                  India            India   \n",
       "3                 POS  Entertainment         United Kingdom            India   \n",
       "4              Online    Electronics                    USA              USA   \n",
       "\n",
       "  Country of Residence Gender   Age      Bank  Fraud  \n",
       "0       United Kingdom      M  25.2       RBS      0  \n",
       "1                  USA      F  49.6    Lloyds      0  \n",
       "2                India      F  42.2  Barclays      0  \n",
       "3       United Kingdom      F  51.0  Barclays      0  \n",
       "4       United Kingdom      M  38.0   Halifax      1  "
      ]
     },
     "execution_count": 6,
     "metadata": {},
     "output_type": "execute_result"
    }
   ],
   "source": [
    "data.head()"
   ]
  },
  {
   "cell_type": "code",
   "execution_count": 7,
   "metadata": {},
   "outputs": [
    {
     "data": {
      "text/html": [
       "<div>\n",
       "<style scoped>\n",
       "    .dataframe tbody tr th:only-of-type {\n",
       "        vertical-align: middle;\n",
       "    }\n",
       "\n",
       "    .dataframe tbody tr th {\n",
       "        vertical-align: top;\n",
       "    }\n",
       "\n",
       "    .dataframe thead th {\n",
       "        text-align: right;\n",
       "    }\n",
       "</style>\n",
       "<table border=\"1\" class=\"dataframe\">\n",
       "  <thead>\n",
       "    <tr style=\"text-align: right;\">\n",
       "      <th></th>\n",
       "      <th>Transaction ID</th>\n",
       "      <th>Date</th>\n",
       "      <th>Day of Week</th>\n",
       "      <th>Time</th>\n",
       "      <th>Type of Card</th>\n",
       "      <th>Entry Mode</th>\n",
       "      <th>Amount</th>\n",
       "      <th>Type of Transaction</th>\n",
       "      <th>Merchant Group</th>\n",
       "      <th>Country of Transaction</th>\n",
       "      <th>Shipping Address</th>\n",
       "      <th>Country of Residence</th>\n",
       "      <th>Gender</th>\n",
       "      <th>Age</th>\n",
       "      <th>Bank</th>\n",
       "      <th>Fraud</th>\n",
       "    </tr>\n",
       "  </thead>\n",
       "  <tbody>\n",
       "    <tr>\n",
       "      <th>4</th>\n",
       "      <td>#2771 031</td>\n",
       "      <td>13-Oct-20</td>\n",
       "      <td>Tuesday</td>\n",
       "      <td>23</td>\n",
       "      <td>Visa</td>\n",
       "      <td>CVC</td>\n",
       "      <td>£91</td>\n",
       "      <td>Online</td>\n",
       "      <td>Electronics</td>\n",
       "      <td>USA</td>\n",
       "      <td>USA</td>\n",
       "      <td>United Kingdom</td>\n",
       "      <td>M</td>\n",
       "      <td>38.0</td>\n",
       "      <td>Halifax</td>\n",
       "      <td>1</td>\n",
       "    </tr>\n",
       "    <tr>\n",
       "      <th>6</th>\n",
       "      <td>#3652 191</td>\n",
       "      <td>13-Oct-20</td>\n",
       "      <td>Tuesday</td>\n",
       "      <td>18</td>\n",
       "      <td>Visa</td>\n",
       "      <td>CVC</td>\n",
       "      <td>£231</td>\n",
       "      <td>Online</td>\n",
       "      <td>Children</td>\n",
       "      <td>United Kingdom</td>\n",
       "      <td>United Kingdom</td>\n",
       "      <td>United Kingdom</td>\n",
       "      <td>M</td>\n",
       "      <td>39.5</td>\n",
       "      <td>Barclays</td>\n",
       "      <td>0</td>\n",
       "    </tr>\n",
       "    <tr>\n",
       "      <th>7</th>\n",
       "      <td>#3161 927</td>\n",
       "      <td>13-Oct-20</td>\n",
       "      <td>Tuesday</td>\n",
       "      <td>18</td>\n",
       "      <td>MasterCard</td>\n",
       "      <td>CVC</td>\n",
       "      <td>£154</td>\n",
       "      <td>Online</td>\n",
       "      <td>Services</td>\n",
       "      <td>USA</td>\n",
       "      <td>USA</td>\n",
       "      <td>United Kingdom</td>\n",
       "      <td>M</td>\n",
       "      <td>37.8</td>\n",
       "      <td>HSBC</td>\n",
       "      <td>0</td>\n",
       "    </tr>\n",
       "    <tr>\n",
       "      <th>16</th>\n",
       "      <td>#3513 029</td>\n",
       "      <td>13-Oct-20</td>\n",
       "      <td>Tuesday</td>\n",
       "      <td>0</td>\n",
       "      <td>MasterCard</td>\n",
       "      <td>CVC</td>\n",
       "      <td>£25</td>\n",
       "      <td>Online</td>\n",
       "      <td>Food</td>\n",
       "      <td>Russia</td>\n",
       "      <td>Russia</td>\n",
       "      <td>United Kingdom</td>\n",
       "      <td>M</td>\n",
       "      <td>54.3</td>\n",
       "      <td>Barlcays</td>\n",
       "      <td>1</td>\n",
       "    </tr>\n",
       "    <tr>\n",
       "      <th>17</th>\n",
       "      <td>#3173 400</td>\n",
       "      <td>14-Oct-20</td>\n",
       "      <td>Wednesday</td>\n",
       "      <td>21</td>\n",
       "      <td>Visa</td>\n",
       "      <td>CVC</td>\n",
       "      <td>£242</td>\n",
       "      <td>Online</td>\n",
       "      <td>Services</td>\n",
       "      <td>United Kingdom</td>\n",
       "      <td>United Kingdom</td>\n",
       "      <td>United Kingdom</td>\n",
       "      <td>M</td>\n",
       "      <td>62.0</td>\n",
       "      <td>Barlcays</td>\n",
       "      <td>0</td>\n",
       "    </tr>\n",
       "  </tbody>\n",
       "</table>\n",
       "</div>"
      ],
      "text/plain": [
       "   Transaction ID       Date Day of Week  Time Type of Card Entry Mode Amount  \\\n",
       "4       #2771 031  13-Oct-20     Tuesday    23         Visa        CVC    £91   \n",
       "6       #3652 191  13-Oct-20     Tuesday    18         Visa        CVC   £231   \n",
       "7       #3161 927  13-Oct-20     Tuesday    18   MasterCard        CVC   £154   \n",
       "16      #3513 029  13-Oct-20     Tuesday     0   MasterCard        CVC    £25   \n",
       "17      #3173 400  14-Oct-20   Wednesday    21         Visa        CVC   £242   \n",
       "\n",
       "   Type of Transaction Merchant Group Country of Transaction Shipping Address  \\\n",
       "4               Online    Electronics                    USA              USA   \n",
       "6               Online       Children         United Kingdom   United Kingdom   \n",
       "7               Online       Services                    USA              USA   \n",
       "16              Online           Food                 Russia           Russia   \n",
       "17              Online       Services         United Kingdom   United Kingdom   \n",
       "\n",
       "   Country of Residence Gender   Age      Bank  Fraud  \n",
       "4        United Kingdom      M  38.0   Halifax      1  \n",
       "6        United Kingdom      M  39.5  Barclays      0  \n",
       "7        United Kingdom      M  37.8      HSBC      0  \n",
       "16       United Kingdom      M  54.3  Barlcays      1  \n",
       "17       United Kingdom      M  62.0  Barlcays      0  "
      ]
     },
     "execution_count": 7,
     "metadata": {},
     "output_type": "execute_result"
    }
   ],
   "source": [
    "online_data=data[data['Type of Transaction']=='Online']\n",
    "online_data.head()"
   ]
  },
  {
   "cell_type": "code",
   "execution_count": 8,
   "metadata": {},
   "outputs": [
    {
     "data": {
      "text/plain": [
       "(33481, 16)"
      ]
     },
     "execution_count": 8,
     "metadata": {},
     "output_type": "execute_result"
    }
   ],
   "source": [
    "online_data.shape"
   ]
  },
  {
   "cell_type": "code",
   "execution_count": 9,
   "metadata": {},
   "outputs": [
    {
     "data": {
      "text/plain": [
       "Transaction ID            0\n",
       "Date                      0\n",
       "Day of Week               0\n",
       "Time                      0\n",
       "Type of Card              0\n",
       "Entry Mode                0\n",
       "Amount                    3\n",
       "Type of Transaction       0\n",
       "Merchant Group            5\n",
       "Country of Transaction    0\n",
       "Shipping Address          2\n",
       "Country of Residence      0\n",
       "Gender                    2\n",
       "Age                       0\n",
       "Bank                      0\n",
       "Fraud                     0\n",
       "dtype: int64"
      ]
     },
     "execution_count": 9,
     "metadata": {},
     "output_type": "execute_result"
    }
   ],
   "source": [
    "online_data.isnull().sum()"
   ]
  },
  {
   "cell_type": "code",
   "execution_count": 10,
   "metadata": {},
   "outputs": [
    {
     "name": "stderr",
     "output_type": "stream",
     "text": [
      "C:\\Users\\Windows User\\AppData\\Local\\Temp\\ipykernel_9548\\3575859064.py:1: SettingWithCopyWarning: \n",
      "A value is trying to be set on a copy of a slice from a DataFrame\n",
      "\n",
      "See the caveats in the documentation: https://pandas.pydata.org/pandas-docs/stable/user_guide/indexing.html#returning-a-view-versus-a-copy\n",
      "  online_data.dropna(inplace=True)\n"
     ]
    }
   ],
   "source": [
    "online_data.dropna(inplace=True)"
   ]
  },
  {
   "cell_type": "code",
   "execution_count": 11,
   "metadata": {},
   "outputs": [
    {
     "data": {
      "text/plain": [
       "(33470, 16)"
      ]
     },
     "execution_count": 11,
     "metadata": {},
     "output_type": "execute_result"
    }
   ],
   "source": [
    "online_data.shape"
   ]
  },
  {
   "cell_type": "code",
   "execution_count": 12,
   "metadata": {},
   "outputs": [
    {
     "data": {
      "text/plain": [
       "Transaction ID            0\n",
       "Date                      0\n",
       "Day of Week               0\n",
       "Time                      0\n",
       "Type of Card              0\n",
       "Entry Mode                0\n",
       "Amount                    0\n",
       "Type of Transaction       0\n",
       "Merchant Group            0\n",
       "Country of Transaction    0\n",
       "Shipping Address          0\n",
       "Country of Residence      0\n",
       "Gender                    0\n",
       "Age                       0\n",
       "Bank                      0\n",
       "Fraud                     0\n",
       "dtype: int64"
      ]
     },
     "execution_count": 12,
     "metadata": {},
     "output_type": "execute_result"
    }
   ],
   "source": [
    "online_data.isnull().sum()"
   ]
  },
  {
   "cell_type": "code",
   "execution_count": 13,
   "metadata": {},
   "outputs": [
    {
     "data": {
      "text/plain": [
       "0"
      ]
     },
     "execution_count": 13,
     "metadata": {},
     "output_type": "execute_result"
    }
   ],
   "source": [
    "online_data.duplicated().sum()"
   ]
  },
  {
   "cell_type": "code",
   "execution_count": 14,
   "metadata": {},
   "outputs": [
    {
     "name": "stderr",
     "output_type": "stream",
     "text": [
      "C:\\Users\\Windows User\\AppData\\Local\\Temp\\ipykernel_9548\\404104221.py:1: SettingWithCopyWarning: \n",
      "A value is trying to be set on a copy of a slice from a DataFrame.\n",
      "Try using .loc[row_indexer,col_indexer] = value instead\n",
      "\n",
      "See the caveats in the documentation: https://pandas.pydata.org/pandas-docs/stable/user_guide/indexing.html#returning-a-view-versus-a-copy\n",
      "  online_data['Amount']= online_data['Amount'].apply(lambda x:x.replace('£',''))\n"
     ]
    }
   ],
   "source": [
    "online_data['Amount']= online_data['Amount'].apply(lambda x:x.replace('£',''))"
   ]
  },
  {
   "cell_type": "code",
   "execution_count": 15,
   "metadata": {},
   "outputs": [
    {
     "data": {
      "text/plain": [
       "0    30271\n",
       "1     3199\n",
       "Name: Fraud, dtype: int64"
      ]
     },
     "execution_count": 15,
     "metadata": {},
     "output_type": "execute_result"
    }
   ],
   "source": [
    "online_data['Fraud'].value_counts()"
   ]
  },
  {
   "cell_type": "code",
   "execution_count": 16,
   "metadata": {},
   "outputs": [],
   "source": [
    "online_data=online_data.drop(['Transaction ID','Date','Day of Week','Type of Transaction'],axis=1)"
   ]
  },
  {
   "cell_type": "code",
   "execution_count": 17,
   "metadata": {},
   "outputs": [
    {
     "name": "stdout",
     "output_type": "stream",
     "text": [
      "Mapping for 'Type of Card':\n",
      "MasterCard -> 0\n",
      "Visa -> 1\n",
      "\n",
      "Mapping for 'Merchant Group':\n",
      "Children -> 0\n",
      "Electronics -> 1\n",
      "Entertainment -> 2\n",
      "Fashion -> 3\n",
      "Food -> 4\n",
      "Gaming -> 5\n",
      "Products -> 6\n",
      "Restaurant -> 7\n",
      "Services -> 8\n",
      "Subscription -> 9\n",
      "\n",
      "Mapping for 'Country of Transaction':\n",
      "China -> 0\n",
      "India -> 1\n",
      "Russia -> 2\n",
      "USA -> 3\n",
      "United Kingdom -> 4\n",
      "\n",
      "Mapping for 'Shipping Address':\n",
      "China -> 0\n",
      "India -> 1\n",
      "Russia -> 2\n",
      "USA -> 3\n",
      "United Kingdom -> 4\n",
      "\n",
      "Mapping for 'Country of Residence':\n",
      "China -> 0\n",
      "India -> 1\n",
      "Russia -> 2\n",
      "USA -> 3\n",
      "United Kingdom -> 4\n",
      "\n",
      "Mapping for 'Gender':\n",
      "F -> 0\n",
      "M -> 1\n",
      "\n",
      "Mapping for 'Bank':\n",
      "Barclays -> 0\n",
      "Barlcays -> 1\n",
      "HSBC -> 2\n",
      "Halifax -> 3\n",
      "Lloyds -> 4\n",
      "Metro -> 5\n",
      "Monzo -> 6\n",
      "RBS -> 7\n",
      "\n"
     ]
    }
   ],
   "source": [
    "# Create a single instance of LabelEncoder\n",
    "label_encoder = LabelEncoder()\n",
    "\n",
    "# List of categorical columns to be encoded\n",
    "categorical_columns = ['Type of Card', 'Merchant Group', 'Country of Transaction', 'Shipping Address', 'Country of Residence', 'Gender', 'Bank']\n",
    "\n",
    "# Apply LabelEncoder to each column in the list\n",
    "for column in categorical_columns:\n",
    "    online_data[column] = label_encoder.fit_transform(online_data[column])\n",
    "\n",
    "    # Print the mapping between original values and numerical labels for each column\n",
    "    print(f\"Mapping for '{column}':\")\n",
    "    for original_value, numerical_label in zip(label_encoder.classes_, label_encoder.transform(label_encoder.classes_)):\n",
    "        print(f\"{original_value} -> {numerical_label}\")\n",
    "    print()"
   ]
  },
  {
   "cell_type": "code",
   "execution_count": 18,
   "metadata": {},
   "outputs": [
    {
     "data": {
      "text/html": [
       "<div>\n",
       "<style scoped>\n",
       "    .dataframe tbody tr th:only-of-type {\n",
       "        vertical-align: middle;\n",
       "    }\n",
       "\n",
       "    .dataframe tbody tr th {\n",
       "        vertical-align: top;\n",
       "    }\n",
       "\n",
       "    .dataframe thead th {\n",
       "        text-align: right;\n",
       "    }\n",
       "</style>\n",
       "<table border=\"1\" class=\"dataframe\">\n",
       "  <thead>\n",
       "    <tr style=\"text-align: right;\">\n",
       "      <th></th>\n",
       "      <th>Time</th>\n",
       "      <th>Type of Card</th>\n",
       "      <th>Entry Mode</th>\n",
       "      <th>Amount</th>\n",
       "      <th>Merchant Group</th>\n",
       "      <th>Country of Transaction</th>\n",
       "      <th>Shipping Address</th>\n",
       "      <th>Country of Residence</th>\n",
       "      <th>Gender</th>\n",
       "      <th>Age</th>\n",
       "      <th>Bank</th>\n",
       "      <th>Fraud</th>\n",
       "    </tr>\n",
       "  </thead>\n",
       "  <tbody>\n",
       "    <tr>\n",
       "      <th>4</th>\n",
       "      <td>23</td>\n",
       "      <td>1</td>\n",
       "      <td>CVC</td>\n",
       "      <td>91</td>\n",
       "      <td>1</td>\n",
       "      <td>3</td>\n",
       "      <td>3</td>\n",
       "      <td>4</td>\n",
       "      <td>1</td>\n",
       "      <td>38.0</td>\n",
       "      <td>3</td>\n",
       "      <td>1</td>\n",
       "    </tr>\n",
       "    <tr>\n",
       "      <th>6</th>\n",
       "      <td>18</td>\n",
       "      <td>1</td>\n",
       "      <td>CVC</td>\n",
       "      <td>231</td>\n",
       "      <td>0</td>\n",
       "      <td>4</td>\n",
       "      <td>4</td>\n",
       "      <td>4</td>\n",
       "      <td>1</td>\n",
       "      <td>39.5</td>\n",
       "      <td>0</td>\n",
       "      <td>0</td>\n",
       "    </tr>\n",
       "    <tr>\n",
       "      <th>7</th>\n",
       "      <td>18</td>\n",
       "      <td>0</td>\n",
       "      <td>CVC</td>\n",
       "      <td>154</td>\n",
       "      <td>8</td>\n",
       "      <td>3</td>\n",
       "      <td>3</td>\n",
       "      <td>4</td>\n",
       "      <td>1</td>\n",
       "      <td>37.8</td>\n",
       "      <td>2</td>\n",
       "      <td>0</td>\n",
       "    </tr>\n",
       "    <tr>\n",
       "      <th>16</th>\n",
       "      <td>0</td>\n",
       "      <td>0</td>\n",
       "      <td>CVC</td>\n",
       "      <td>25</td>\n",
       "      <td>4</td>\n",
       "      <td>2</td>\n",
       "      <td>2</td>\n",
       "      <td>4</td>\n",
       "      <td>1</td>\n",
       "      <td>54.3</td>\n",
       "      <td>1</td>\n",
       "      <td>1</td>\n",
       "    </tr>\n",
       "    <tr>\n",
       "      <th>17</th>\n",
       "      <td>21</td>\n",
       "      <td>1</td>\n",
       "      <td>CVC</td>\n",
       "      <td>242</td>\n",
       "      <td>8</td>\n",
       "      <td>4</td>\n",
       "      <td>4</td>\n",
       "      <td>4</td>\n",
       "      <td>1</td>\n",
       "      <td>62.0</td>\n",
       "      <td>1</td>\n",
       "      <td>0</td>\n",
       "    </tr>\n",
       "  </tbody>\n",
       "</table>\n",
       "</div>"
      ],
      "text/plain": [
       "    Time  Type of Card Entry Mode Amount  Merchant Group  \\\n",
       "4     23             1        CVC     91               1   \n",
       "6     18             1        CVC    231               0   \n",
       "7     18             0        CVC    154               8   \n",
       "16     0             0        CVC     25               4   \n",
       "17    21             1        CVC    242               8   \n",
       "\n",
       "    Country of Transaction  Shipping Address  Country of Residence  Gender  \\\n",
       "4                        3                 3                     4       1   \n",
       "6                        4                 4                     4       1   \n",
       "7                        3                 3                     4       1   \n",
       "16                       2                 2                     4       1   \n",
       "17                       4                 4                     4       1   \n",
       "\n",
       "     Age  Bank  Fraud  \n",
       "4   38.0     3      1  \n",
       "6   39.5     0      0  \n",
       "7   37.8     2      0  \n",
       "16  54.3     1      1  \n",
       "17  62.0     1      0  "
      ]
     },
     "execution_count": 18,
     "metadata": {},
     "output_type": "execute_result"
    }
   ],
   "source": [
    "online_data.head()"
   ]
  },
  {
   "cell_type": "code",
   "execution_count": 19,
   "metadata": {},
   "outputs": [],
   "source": [
    "online_data=online_data.drop(['Entry Mode'],axis=1)"
   ]
  },
  {
   "cell_type": "code",
   "execution_count": 20,
   "metadata": {},
   "outputs": [
    {
     "data": {
      "text/html": [
       "<div>\n",
       "<style scoped>\n",
       "    .dataframe tbody tr th:only-of-type {\n",
       "        vertical-align: middle;\n",
       "    }\n",
       "\n",
       "    .dataframe tbody tr th {\n",
       "        vertical-align: top;\n",
       "    }\n",
       "\n",
       "    .dataframe thead th {\n",
       "        text-align: right;\n",
       "    }\n",
       "</style>\n",
       "<table border=\"1\" class=\"dataframe\">\n",
       "  <thead>\n",
       "    <tr style=\"text-align: right;\">\n",
       "      <th></th>\n",
       "      <th>Time</th>\n",
       "      <th>Type of Card</th>\n",
       "      <th>Amount</th>\n",
       "      <th>Merchant Group</th>\n",
       "      <th>Country of Transaction</th>\n",
       "      <th>Shipping Address</th>\n",
       "      <th>Country of Residence</th>\n",
       "      <th>Gender</th>\n",
       "      <th>Age</th>\n",
       "      <th>Bank</th>\n",
       "      <th>Fraud</th>\n",
       "    </tr>\n",
       "  </thead>\n",
       "  <tbody>\n",
       "    <tr>\n",
       "      <th>4</th>\n",
       "      <td>23</td>\n",
       "      <td>1</td>\n",
       "      <td>91</td>\n",
       "      <td>1</td>\n",
       "      <td>3</td>\n",
       "      <td>3</td>\n",
       "      <td>4</td>\n",
       "      <td>1</td>\n",
       "      <td>38.0</td>\n",
       "      <td>3</td>\n",
       "      <td>1</td>\n",
       "    </tr>\n",
       "    <tr>\n",
       "      <th>6</th>\n",
       "      <td>18</td>\n",
       "      <td>1</td>\n",
       "      <td>231</td>\n",
       "      <td>0</td>\n",
       "      <td>4</td>\n",
       "      <td>4</td>\n",
       "      <td>4</td>\n",
       "      <td>1</td>\n",
       "      <td>39.5</td>\n",
       "      <td>0</td>\n",
       "      <td>0</td>\n",
       "    </tr>\n",
       "    <tr>\n",
       "      <th>7</th>\n",
       "      <td>18</td>\n",
       "      <td>0</td>\n",
       "      <td>154</td>\n",
       "      <td>8</td>\n",
       "      <td>3</td>\n",
       "      <td>3</td>\n",
       "      <td>4</td>\n",
       "      <td>1</td>\n",
       "      <td>37.8</td>\n",
       "      <td>2</td>\n",
       "      <td>0</td>\n",
       "    </tr>\n",
       "    <tr>\n",
       "      <th>16</th>\n",
       "      <td>0</td>\n",
       "      <td>0</td>\n",
       "      <td>25</td>\n",
       "      <td>4</td>\n",
       "      <td>2</td>\n",
       "      <td>2</td>\n",
       "      <td>4</td>\n",
       "      <td>1</td>\n",
       "      <td>54.3</td>\n",
       "      <td>1</td>\n",
       "      <td>1</td>\n",
       "    </tr>\n",
       "    <tr>\n",
       "      <th>17</th>\n",
       "      <td>21</td>\n",
       "      <td>1</td>\n",
       "      <td>242</td>\n",
       "      <td>8</td>\n",
       "      <td>4</td>\n",
       "      <td>4</td>\n",
       "      <td>4</td>\n",
       "      <td>1</td>\n",
       "      <td>62.0</td>\n",
       "      <td>1</td>\n",
       "      <td>0</td>\n",
       "    </tr>\n",
       "  </tbody>\n",
       "</table>\n",
       "</div>"
      ],
      "text/plain": [
       "    Time  Type of Card Amount  Merchant Group  Country of Transaction  \\\n",
       "4     23             1     91               1                       3   \n",
       "6     18             1    231               0                       4   \n",
       "7     18             0    154               8                       3   \n",
       "16     0             0     25               4                       2   \n",
       "17    21             1    242               8                       4   \n",
       "\n",
       "    Shipping Address  Country of Residence  Gender   Age  Bank  Fraud  \n",
       "4                  3                     4       1  38.0     3      1  \n",
       "6                  4                     4       1  39.5     0      0  \n",
       "7                  3                     4       1  37.8     2      0  \n",
       "16                 2                     4       1  54.3     1      1  \n",
       "17                 4                     4       1  62.0     1      0  "
      ]
     },
     "execution_count": 20,
     "metadata": {},
     "output_type": "execute_result"
    }
   ],
   "source": [
    "online_data.head()"
   ]
  },
  {
   "cell_type": "code",
   "execution_count": 21,
   "metadata": {},
   "outputs": [],
   "source": [
    "X = online_data.drop('Fraud',axis=1)\n",
    "y = online_data['Fraud']"
   ]
  },
  {
   "cell_type": "code",
   "execution_count": 22,
   "metadata": {},
   "outputs": [],
   "source": [
    "# Split the data into training and testing sets\n",
    "X_train, X_test, y_train, y_test = train_test_split(X, y, test_size=0.2, random_state=42)"
   ]
  },
  {
   "cell_type": "code",
   "execution_count": 23,
   "metadata": {},
   "outputs": [],
   "source": [
    "from imblearn.over_sampling import SMOTE\n",
    "smote = SMOTE(random_state=42)\n",
    "X_train_resampled, y_train_resampled = smote.fit_resample(X_train, y_train)"
   ]
  },
  {
   "cell_type": "code",
   "execution_count": 24,
   "metadata": {},
   "outputs": [
    {
     "name": "stdout",
     "output_type": "stream",
     "text": [
      "X_train: (48346, 10)\n",
      "Y_train: (48346,)\n",
      "X_test: (6694, 10)\n",
      "Y_test: (6694,)\n"
     ]
    }
   ],
   "source": [
    "print(f'X_train: {X_train_resampled.shape}')\n",
    "print(f'Y_train: {y_train_resampled.shape}')\n",
    "print(f'X_test: {X_test.shape}')\n",
    "print(f'Y_test: {y_test.shape}')"
   ]
  },
  {
   "cell_type": "code",
   "execution_count": 25,
   "metadata": {},
   "outputs": [
    {
     "name": "stdout",
     "output_type": "stream",
     "text": [
      "Original Class Distribution:\n",
      "0    24173\n",
      "1     2603\n",
      "Name: Fraud, dtype: int64\n",
      "\n",
      "Resampled Class Distribution:\n",
      "0    24173\n",
      "1    24173\n",
      "Name: Fraud, dtype: int64\n"
     ]
    }
   ],
   "source": [
    "# Assuming y_train is a pandas Series or a NumPy array\n",
    "original_class_distribution = pd.Series(y_train).value_counts()\n",
    "\n",
    "# Display the original class distribution\n",
    "print(\"Original Class Distribution:\")\n",
    "print(original_class_distribution)\n",
    "\n",
    "# Assuming y_train_resampled is a pandas Series or a NumPy array after SMOTE\n",
    "resampled_class_distribution = pd.Series(y_train_resampled).value_counts()\n",
    "\n",
    "# Display the resampled class distribution\n",
    "print(\"\\nResampled Class Distribution:\")\n",
    "print(resampled_class_distribution)"
   ]
  },
  {
   "cell_type": "code",
   "execution_count": 26,
   "metadata": {},
   "outputs": [
    {
     "data": {
      "image/png": "[encoded data removed]",
      "text/plain": [
       "<Figure size 1000x400 with 2 Axes>"
      ]
     },
     "metadata": {},
     "output_type": "display_data"
    }
   ],
   "source": [
    "# Plotting the class distribution\n",
    "fig, (ax1, ax2) = plt.subplots(1, 2, figsize=(10, 4))\n",
    "\n",
    "# Plotting the original class distribution\n",
    "ax1.bar(original_class_distribution.index, original_class_distribution.values)\n",
    "ax1.set_title('Original Class Distribution')\n",
    "ax1.set_xlabel('Class (0: Not Fraud, 1: Fraud)')\n",
    "ax1.set_ylabel('Count')\n",
    "\n",
    "# Setting explicit x-axis ticks for the original class distribution\n",
    "ax1.set_xticks([0, 1])\n",
    "\n",
    "# Plotting the resampled class distribution\n",
    "ax2.bar(resampled_class_distribution.index, resampled_class_distribution.values)\n",
    "ax2.set_title('Resampled Class Distribution')\n",
    "ax2.set_xlabel('Class (0: Not Fraud, 1: Fraud)')\n",
    "ax2.set_ylabel('Count')\n",
    "\n",
    "# Setting explicit x-axis ticks for the resampled class distribution\n",
    "ax2.set_xticks([0, 1])\n",
    "\n",
    "plt.tight_layout()\n",
    "plt.show()"
   ]
  },
  {
   "cell_type": "code",
   "execution_count": 27,
   "metadata": {},
   "outputs": [
    {
     "name": "stdout",
     "output_type": "stream",
     "text": [
      "Accuracy: 0.9515984463698834\n",
      "Confusion Matrix:\n",
      "[[5872  226]\n",
      " [  98  498]]\n",
      "Classification Report:\n",
      "              precision    recall  f1-score   support\n",
      "\n",
      "           0       0.98      0.96      0.97      6098\n",
      "           1       0.69      0.84      0.75       596\n",
      "\n",
      "    accuracy                           0.95      6694\n",
      "   macro avg       0.84      0.90      0.86      6694\n",
      "weighted avg       0.96      0.95      0.95      6694\n",
      "\n"
     ]
    },
    {
     "name": "stderr",
     "output_type": "stream",
     "text": [
      "c:\\Users\\Windows User\\anaconda3\\lib\\site-packages\\sklearn\\linear_model\\_logistic.py:458: ConvergenceWarning: lbfgs failed to converge (status=1):\n",
      "STOP: TOTAL NO. of ITERATIONS REACHED LIMIT.\n",
      "\n",
      "Increase the number of iterations (max_iter) or scale the data as shown in:\n",
      "    https://scikit-learn.org/stable/modules/preprocessing.html\n",
      "Please also refer to the documentation for alternative solver options:\n",
      "    https://scikit-learn.org/stable/modules/linear_model.html#logistic-regression\n",
      "  n_iter_i = _check_optimize_result(\n"
     ]
    }
   ],
   "source": [
    "from sklearn.linear_model import LogisticRegression\n",
    "# Create a logistic regression model\n",
    "model = LogisticRegression()\n",
    "\n",
    "# Train the model on the training data\n",
    "model.fit(X_train_resampled, y_train_resampled)\n",
    "\n",
    "# Make predictions on the test data\n",
    "y_pred = model.predict(X_test)\n",
    "\n",
    "from sklearn.metrics import accuracy_score, classification_report, confusion_matrix\n",
    "accuracy = accuracy_score(y_test, y_pred)\n",
    "confusion = confusion_matrix(y_test, y_pred)\n",
    "classification_rep = classification_report(y_test, y_pred)\n",
    "\n",
    "print(f'Accuracy: {accuracy}')\n",
    "print('Confusion Matrix:')\n",
    "print(confusion)\n",
    "print('Classification Report:')\n",
    "print(classification_rep)"
   ]
  },
  {
   "cell_type": "code",
   "execution_count": 28,
   "metadata": {},
   "outputs": [
    {
     "name": "stdout",
     "output_type": "stream",
     "text": [
      "Accuracy: 0.9672841350463102\n",
      "Confusion Matrix:\n",
      "[[5951  147]\n",
      " [  72  524]]\n",
      "Classification Report:\n",
      "              precision    recall  f1-score   support\n",
      "\n",
      "           0       0.99      0.98      0.98      6098\n",
      "           1       0.78      0.88      0.83       596\n",
      "\n",
      "    accuracy                           0.97      6694\n",
      "   macro avg       0.88      0.93      0.90      6694\n",
      "weighted avg       0.97      0.97      0.97      6694\n",
      "\n"
     ]
    }
   ],
   "source": [
    "from sklearn.tree import DecisionTreeClassifier\n",
    "\n",
    "decision_tree_model = DecisionTreeClassifier()\n",
    "decision_tree_model.fit(X_train_resampled, y_train_resampled)\n",
    "y_pred_decision_tree = decision_tree_model.predict(X_test)\n",
    "\n",
    "from sklearn.metrics import accuracy_score, classification_report, confusion_matrix\n",
    "accuracy = accuracy_score(y_test, y_pred_decision_tree)\n",
    "confusion = confusion_matrix(y_test, y_pred_decision_tree)\n",
    "classification_rep = classification_report(y_test, y_pred_decision_tree)\n",
    "\n",
    "print(f'Accuracy: {accuracy}')\n",
    "print('Confusion Matrix:')\n",
    "print(confusion)\n",
    "print('Classification Report:')\n",
    "print(classification_rep)"
   ]
  },
  {
   "cell_type": "code",
   "execution_count": 29,
   "metadata": {},
   "outputs": [
    {
     "name": "stdout",
     "output_type": "stream",
     "text": [
      "Accuracy: 0.9553331341499851\n",
      "Confusion Matrix:\n",
      "[[5849  249]\n",
      " [  50  546]]\n",
      "Classification Report:\n",
      "              precision    recall  f1-score   support\n",
      "\n",
      "           0       0.99      0.96      0.98      6098\n",
      "           1       0.69      0.92      0.79       596\n",
      "\n",
      "    accuracy                           0.96      6694\n",
      "   macro avg       0.84      0.94      0.88      6694\n",
      "weighted avg       0.96      0.96      0.96      6694\n",
      "\n"
     ]
    }
   ],
   "source": [
    "# AdaBoost Classifier\n",
    "from sklearn.ensemble import AdaBoostClassifier\n",
    "\n",
    "adaboost_model = AdaBoostClassifier()\n",
    "adaboost_model.fit(X_train_resampled, y_train_resampled)\n",
    "y_pred_adaboost = adaboost_model.predict(X_test)\n",
    "\n",
    "from sklearn.metrics import accuracy_score, classification_report, confusion_matrix\n",
    "accuracy = accuracy_score(y_test, y_pred_adaboost)\n",
    "confusion = confusion_matrix(y_test, y_pred_adaboost)\n",
    "classification_rep = classification_report(y_test, y_pred_adaboost)\n",
    "\n",
    "print(f'Accuracy: {accuracy}')\n",
    "print('Confusion Matrix:')\n",
    "print(confusion)\n",
    "print('Classification Report:')\n",
    "print(classification_rep)"
   ]
  },
  {
   "cell_type": "code",
   "execution_count": 30,
   "metadata": {},
   "outputs": [
    {
     "name": "stdout",
     "output_type": "stream",
     "text": [
      "Random Forest Accuracy: 0.9750522856289214\n",
      "Random Forest Confusion Matrix:\n",
      "[[5995  103]\n",
      " [  64  532]]\n",
      "Random Forest Classification Report:\n",
      "              precision    recall  f1-score   support\n",
      "\n",
      "           0       0.99      0.98      0.99      6098\n",
      "           1       0.84      0.89      0.86       596\n",
      "\n",
      "    accuracy                           0.98      6694\n",
      "   macro avg       0.91      0.94      0.93      6694\n",
      "weighted avg       0.98      0.98      0.98      6694\n",
      "\n"
     ]
    }
   ],
   "source": [
    "# Random Forest Classifier\n",
    "from sklearn.ensemble import RandomForestClassifier\n",
    "\n",
    "# Create a Random Forest model\n",
    "random_forest_model = RandomForestClassifier()\n",
    "random_forest_model.fit(X_train_resampled, y_train_resampled)\n",
    "y_pred_random_forest = random_forest_model.predict(X_test)\n",
    "\n",
    "# Evaluate the Random Forest model\n",
    "accuracy_rf = accuracy_score(y_test, y_pred_random_forest)\n",
    "confusion_rf = confusion_matrix(y_test, y_pred_random_forest)\n",
    "classification_rep_rf = classification_report(y_test, y_pred_random_forest)\n",
    "\n",
    "print(f'Random Forest Accuracy: {accuracy_rf}')\n",
    "print('Random Forest Confusion Matrix:')\n",
    "print(confusion_rf)\n",
    "print('Random Forest Classification Report:')\n",
    "print(classification_rep_rf)"
   ]
  },
  {
   "cell_type": "code",
   "execution_count": 31,
   "metadata": {},
   "outputs": [
    {
     "name": "stdout",
     "output_type": "stream",
     "text": [
      "Best Parameters: {'max_depth': None, 'min_samples_leaf': 1, 'min_samples_split': 2, 'n_estimators': 200}\n",
      "Best Random Forest Accuracy: 0.9749028981177174\n",
      "Best Random Forest Confusion Matrix:\n",
      "[[5992  106]\n",
      " [  62  534]]\n",
      "Best Random Forest Classification Report:\n",
      "              precision    recall  f1-score   support\n",
      "\n",
      "           0       0.99      0.98      0.99      6098\n",
      "           1       0.83      0.90      0.86       596\n",
      "\n",
      "    accuracy                           0.97      6694\n",
      "   macro avg       0.91      0.94      0.93      6694\n",
      "weighted avg       0.98      0.97      0.98      6694\n",
      "\n"
     ]
    }
   ],
   "source": [
    "from sklearn.model_selection import GridSearchCV\n",
    "\n",
    "# Define the parameter grid\n",
    "param_grid = {\n",
    "    'n_estimators': [50, 100, 200],\n",
    "    'max_depth': [None, 10, 20],\n",
    "    'min_samples_split': [2, 5, 10],\n",
    "    'min_samples_leaf': [1, 2, 4]\n",
    "}\n",
    "\n",
    "# Perform grid search\n",
    "grid_search = GridSearchCV(RandomForestClassifier(), param_grid, cv=5, scoring='accuracy')\n",
    "grid_search.fit(X_train_resampled, y_train_resampled)\n",
    "\n",
    "# Get the best parameters\n",
    "best_params = grid_search.best_params_\n",
    "print(f'Best Parameters: {best_params}')\n",
    "\n",
    "# Use the best parameters to create a new Random Forest model\n",
    "best_random_forest_model = RandomForestClassifier(**best_params)\n",
    "best_random_forest_model.fit(X_train_resampled, y_train_resampled)\n",
    "y_pred_best_rf = best_random_forest_model.predict(X_test)\n",
    "\n",
    "# Evaluate the model\n",
    "accuracy_best_rf = accuracy_score(y_test, y_pred_best_rf)\n",
    "confusion_best_rf = confusion_matrix(y_test, y_pred_best_rf)\n",
    "classification_rep_best_rf = classification_report(y_test, y_pred_best_rf)\n",
    "\n",
    "print(f'Best Random Forest Accuracy: {accuracy_best_rf}')\n",
    "print('Best Random Forest Confusion Matrix:')\n",
    "print(confusion_best_rf)\n",
    "print('Best Random Forest Classification Report:')\n",
    "print(classification_rep_best_rf)"
   ]
  },
  {
   "cell_type": "code",
   "execution_count": 32,
   "metadata": {},
   "outputs": [
    {
     "name": "stdout",
     "output_type": "stream",
     "text": [
      "Best Parameters: {'max_depth': None, 'min_samples_leaf': 1, 'min_samples_split': 2, 'n_estimators': 50}\n",
      "Adjusted Random Forest Accuracy: 0.969226172691963\n",
      "Adjusted Random Forest Confusion Matrix:\n",
      "[[5946  152]\n",
      " [  54  542]]\n",
      "Adjusted Random Forest Classification Report:\n",
      "              precision    recall  f1-score   support\n",
      "\n",
      "           0       0.99      0.98      0.98      6098\n",
      "           1       0.78      0.91      0.84       596\n",
      "\n",
      "    accuracy                           0.97      6694\n",
      "   macro avg       0.89      0.94      0.91      6694\n",
      "weighted avg       0.97      0.97      0.97      6694\n",
      "\n"
     ]
    }
   ],
   "source": [
    "from sklearn.model_selection import GridSearchCV\n",
    "\n",
    "# Define the parameter grid\n",
    "param_grid = {\n",
    "    'n_estimators': [50, 100, 200],\n",
    "    'max_depth': [None, 10, 20],\n",
    "    'min_samples_split': [2, 5, 10],\n",
    "    'min_samples_leaf': [1, 2, 4]\n",
    "}\n",
    "\n",
    "# Perform grid search\n",
    "grid_search = GridSearchCV(RandomForestClassifier(), param_grid, cv=5, scoring='accuracy')\n",
    "grid_search.fit(X_train_resampled, y_train_resampled)\n",
    "\n",
    "# Get the best parameters\n",
    "best_params = grid_search.best_params_\n",
    "print(f'Best Parameters: {best_params}')\n",
    "\n",
    "# Use the best parameters to create a new Random Forest model\n",
    "best_random_forest_model = RandomForestClassifier(**best_params)\n",
    "best_random_forest_model.fit(X_train_resampled, y_train_resampled)\n",
    "\n",
    "# Adjust the threshold (example: set it to 0.4)\n",
    "y_pred_prob = best_random_forest_model.predict_proba(X_test)[:, 1]\n",
    "y_pred_adjusted = (y_pred_prob > 0.4).astype(int)\n",
    "\n",
    "# Evaluate the model\n",
    "accuracy_adjusted = accuracy_score(y_test, y_pred_adjusted)\n",
    "confusion_adjusted = confusion_matrix(y_test, y_pred_adjusted)\n",
    "classification_rep_adjusted = classification_report(y_test, y_pred_adjusted)\n",
    "\n",
    "print(f'Adjusted Random Forest Accuracy: {accuracy_adjusted}')\n",
    "print('Adjusted Random Forest Confusion Matrix:')\n",
    "print(confusion_adjusted)\n",
    "print('Adjusted Random Forest Classification Report:')\n",
    "print(classification_rep_adjusted)"
   ]
  },
  {
   "cell_type": "code",
   "execution_count": 33,
   "metadata": {},
   "outputs": [],
   "source": [
    "pickle.dump(best_random_forest_model, open('model.pkl','wb'))"
   ]
  }
 ],
 "metadata": {
  "kernelspec": {
   "display_name": "Python 3.12.3 64-bit",
   "language": "python",
   "name": "python3"
  },
  "language_info": {
   "codemirror_mode": {
    "name": "ipython",
    "version": 3
   },
   "file_extension": ".py",
   "mimetype": "text/x-python",
   "name": "python",
   "nbconvert_exporter": "python",
   "pygments_lexer": "ipython3",
   "version": "3.12.3"
  },
  "vscode": {
   "interpreter": {
    "hash": "88d8ac82681cc9a9645ff9073490be2a5144de3466b3e26e1c9f2f800b481971"
   }
  }
 },
 "nbformat": 4,
 "nbformat_minor": 2
}
